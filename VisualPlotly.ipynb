{
  "nbformat": 4,
  "nbformat_minor": 0,
  "metadata": {
    "colab": {
      "private_outputs": true,
      "provenance": [],
      "include_colab_link": true
    },
    "kernelspec": {
      "name": "python3",
      "display_name": "Python 3"
    },
    "language_info": {
      "name": "python"
    }
  },
  "cells": [
    {
      "cell_type": "markdown",
      "metadata": {
        "id": "view-in-github",
        "colab_type": "text"
      },
      "source": [
        "<a href=\"https://colab.research.google.com/github/bonillahermes/Visualization_and_BI/blob/main/VisualPlotly.ipynb\" target=\"_parent\"><img src=\"https://colab.research.google.com/assets/colab-badge.svg\" alt=\"Open In Colab\"/></a>"
      ]
    },
    {
      "cell_type": "markdown",
      "source": [
        "# Visualizaciones con Plotly"
      ],
      "metadata": {
        "id": "dsTooRG0Le40"
      }
    },
    {
      "cell_type": "markdown",
      "source": [
        "## Introducción a Plotly\n",
        "\n",
        "Plotly es una biblioteca de visualización de datos interactiva y de código abierto que soporta múltiples lenguajes de programación, incluidos Python, R, MATLAB, Perl, Julia, Arduino, y REST, aunque es más conocida y ampliamente utilizada en Python. Esta biblioteca permite a los usuarios crear gráficos de alta calidad, interactivos y ricos en características que pueden ser utilizados en cuadernos Jupyter, servidores web, y dashboards. Plotly es especialmente popular en el campo de la ciencia de datos, la ingeniería, y la analítica financiera debido a su flexibilidad y su capacidad para generar visualizaciones complejas de manera sencilla.\n",
        "\n",
        "## Características Principales de Plotly\n",
        "\n",
        "1. **Interactividad**: Los gráficos generados con Plotly son inherentemente interactivos. Los usuarios pueden hacer zoom, panear, actualizar, y ver detalles específicos sobre puntos de datos individuales pasando el cursor por encima (hover).\n",
        "\n",
        "2. **Variedad de Gráficos**: Plotly soporta una amplia gama de tipos de gráficos, incluyendo gráficos de línea, barras, pastel, dispersión, burbujas, histogramas, box plots, mapas de calor, gráficos 3D, y más.\n",
        "\n",
        "3. **Integración con Frameworks de Análisis de Datos**: Plotly se integra de manera fluida con Pandas y NumPy, lo que permite a los científicos de datos y analistas trabajar eficientemente con marcos de datos y realizar visualizaciones complejas con poco código.\n",
        "\n",
        "4. **Compatibilidad con Dash**: Dash, también desarrollado por Plotly, es un framework para crear aplicaciones web analíticas interactivas en Python sin necesidad de JavaScript. La integración con Plotly hace que sea sencillo incluir visualizaciones interactivas en estas aplicaciones.\n",
        "\n",
        "5. **Exportación y Compartición**: Los gráficos de Plotly se pueden exportar como archivos estáticos (PNG, JPEG), HTML, o incluso como objetos JSON para integrarse en aplicaciones web. También ofrece opciones para compartir gráficos en línea a través de la plataforma de Plotly Chart Studio.\n",
        "\n",
        "Para utilizar Plotly en Python, primero es necesario instalarlo usando pip:\n",
        "\n",
        "```bash\n",
        "pip install plotly\n"
      ],
      "metadata": {
        "id": "Lr3lG6j3PugL"
      }
    },
    {
      "cell_type": "markdown",
      "source": [
        "## Librerías Necesarias\n",
        "\n",
        "En este análisis, utilizamos tres librerías clave para el manejo de datos y la visualización:\n",
        "\n",
        "- **Pandas**: Una librería de Python para análisis de datos que ofrece estructuras de datos flexibles diseñadas para trabajar de manera intuitiva con datos relacionales o etiquetados. Se utiliza principalmente para la manipulación y limpieza de datos. En este script, `pandas` se importa con el alias `pd`, una convención común que facilita la lectura y escritura del código.\n",
        "\n",
        "- **Plotly Express**: Una interfaz de alto nivel para la creación de gráficos interactivos. Es parte de la biblioteca Plotly y permite una sintaxis más simple y menos verbosa para la creación de gráficos comunes. Se importa como `px` y se usa para crear visualizaciones atractivas y fáciles de interpretar con una línea de código mínima.\n",
        "\n",
        "- **Plotly Graph Objects (go)**: Ofrece un control más fino sobre la creación de gráficos interactivos. Se utiliza para gráficos más personalizados y detallados donde se requiere una configuración específica de los componentes del gráfico. La importación de `plotly.graph_objs` como `go` permite acceder a una gama más amplia de opciones de visualización y personalización.\n"
      ],
      "metadata": {
        "id": "QLwcgTi0QLyZ"
      }
    },
    {
      "cell_type": "code",
      "execution_count": null,
      "metadata": {
        "id": "P2ejP-R7Xl7A"
      },
      "outputs": [],
      "source": [
        "import pandas as pd\n",
        "import plotly.express as px\n",
        "import plotly.graph_objs as go"
      ]
    },
    {
      "cell_type": "markdown",
      "source": [
        "## Descripción de la Base de Datos\n",
        "\n",
        "La base de datos proporcionada contiene información detallada sobre la desigualdad de ingresos en varios países de América Latina, medida a través del índice de Gini. Este índice es un indicador estadístico ampliamente utilizado para medir la desigualdad económica dentro de una población. Varía entre 0 y 1, donde un valor de 0 representa la perfecta igualdad (todos tienen los mismos ingresos) y un valor de 1 indica la perfecta desigualdad (una persona tiene todos los ingresos y los demás ninguno).\n",
        "\n",
        "Los datos específicos incluyen:\n",
        "\n",
        "- **Entity**: El nombre del país. Este campo identifica el país al que pertenecen los datos, permitiendo comparaciones entre diferentes naciones dentro de América Latina.\n",
        "- **Code**: Código ISO del país. Es una abreviatura alfanumérica que proporciona una referencia estándar para cada país, facilitando la organización y análisis de los datos a nivel internacional.\n",
        "- **Year**: El año de la observación. Este campo indica el año en el que se midió el índice de Gini, lo cual es crucial para analizar las tendencias de desigualdad a lo largo del tiempo.\n",
        "- **Gini index (SEDLAC)**: El índice de Gini como ha sido calculado por el proyecto SEDLAC (Socio-Economic Database for Latin America and the Caribbean). Este índice es fundamental para entender las dinámicas de desigualdad de ingresos dentro de cada país y a través de la región en diferentes momentos.\n",
        "\n",
        "La presencia de múltiples observaciones a lo largo del tiempo para cada país hace que esta base de datos sea particularmente valiosa para analizar tendencias temporales en la desigualdad de ingresos. Al estudiar cómo el índice de Gini cambia año tras año, los investigadores, analistas de políticas y otros interesados pueden identificar si la desigualdad está aumentando, disminuyendo o permaneciendo relativamente estable dentro de los países de América Latina. Esta información es esencial para el diseño y evaluación de políticas económicas y sociales dirigidas a reducir la desigualdad y promover una distribución más equitativa de los ingresos.\n",
        "\n",
        "Los datos han sido obtenidos de la siguiente URL: [https://yusef.es/dataset/income-inequality-in-latin-america.csv](https://yusef.es/dataset/income-inequality-in-latin-america.csv), proporcionando una fuente accesible y transparente para este análisis.\n",
        "\n"
      ],
      "metadata": {
        "id": "QDDy3_0LQKUI"
      }
    },
    {
      "cell_type": "code",
      "source": [
        "# Cargar los datos desde el enlace\n",
        "url = \"https://yusef.es/dataset/income-inequality-in-latin-america.csv\"\n",
        "columns_to_use = ['Entity', 'Year', 'Gini index (SEDLAC)']\n",
        "df = pd.read_csv(url, usecols=columns_to_use)"
      ],
      "metadata": {
        "id": "DelYFOHUXpYj"
      },
      "execution_count": null,
      "outputs": []
    },
    {
      "cell_type": "code",
      "source": [
        "df.head()"
      ],
      "metadata": {
        "id": "Vxd6P3YAsMND"
      },
      "execution_count": null,
      "outputs": []
    },
    {
      "cell_type": "markdown",
      "source": [
        "## Cálculo del Índice de Gini Promedio por Año\n",
        "\n",
        "El análisis del índice de Gini a lo largo del tiempo nos permite observar cómo la desigualdad de ingresos ha cambiado. Para hacerlo más informativo, calculamos el promedio del índice de Gini por año para todos los países de América Latina en el conjunto de datos. Los pasos para este cálculo son:\n",
        "\n",
        "1. **Agrupación y Promedio**: Utilizamos `df.groupby('Year')` para agrupar los datos por año. Luego, aplicamos `.mean()` al índice de Gini (`'Gini index (SEDLAC)'`) para obtener el promedio anual. El resultado se asigna a `df_average_per_year`.\n",
        "\n",
        "2. **Creación de un Nuevo DataFrame**: Para facilitar la comparación, creamos un nuevo DataFrame llamado `df_average_per_year`, al cual añadimos una columna `Entity` con el valor 'Promedio'. Esto nos permite integrar los promedios calculados con el formato del conjunto de datos original.\n",
        "\n",
        "3. **Asegurar la Consistencia de Columnas**: Reorganizamos las columnas de `df_average_per_year` para que coincidan con las del DataFrame original (`df`), asegurando que ambas tengan las columnas `Entity`, `Year`, y `Gini index (SEDLAC)` en el mismo orden.\n",
        "\n",
        "4. **Concatenación de DataFrames**: Finalmente, concatenamos el DataFrame original `df` con `df_average_per_year` utilizando `pd.concat()`, pasando una lista de los DataFrames a combinar y `ignore_index=True` para reindexar el DataFrame resultante. El DataFrame final `df_final` contiene tanto los datos originales como los promedios anuales del índice de Gini.\n",
        "\n",
        "Al ejecutar `df_final.tail()`, visualizamos las últimas filas del DataFrame concatenado para verificar que los datos se han combinado correctamente. Esto muestra los promedios anuales del índice de Gini bajo la entidad 'Promedio', permitiéndonos comparar estos promedios con los índices de Gini específicos de cada país.\n"
      ],
      "metadata": {
        "id": "oVhjZet4UTPh"
      }
    },
    {
      "cell_type": "code",
      "source": [
        "# Calculamos el índice de Gini promedio por año\n",
        "df_average_per_year = df.groupby('Year')['Gini index (SEDLAC)'].mean().reset_index()\n",
        "\n",
        "# Ahora creamos un nuevo DataFrame para 'Promedio' que se ajusta al formato original\n",
        "df_average_per_year['Entity'] = 'Promedio'\n",
        "\n",
        "# Nos aseguramos de que el nuevo DataFrame tenga las mismas columnas que el original\n",
        "df_average_per_year = df_average_per_year[['Entity', 'Year', 'Gini index (SEDLAC)']]\n",
        "\n",
        "# Finalmente, concatenamos este DataFrame con el original\n",
        "df_final = pd.concat([df, df_average_per_year], ignore_index=True)\n",
        "\n",
        "df_final.tail()  # Mostrar las últimas filas para verificar\n"
      ],
      "metadata": {
        "id": "DOXw-D_ZttqR"
      },
      "execution_count": null,
      "outputs": []
    },
    {
      "cell_type": "markdown",
      "source": [
        "## Visualización del Índice de Gini con Plotly Express\n",
        "\n",
        "Para explorar cómo la desigualdad de ingresos, medida a través del índice de Gini, ha cambiado a lo largo del tiempo en América Latina, empleamos `plotly.express` para crear un gráfico lineal interactivo. Los pasos para esta visualización son:\n",
        "\n",
        "1. **Creación del Gráfico Lineal**: Utilizamos `px.line()`, especificando el DataFrame `df_final` como fuente de datos. Los argumentos `x='Year'` y `y='Gini index (SEDLAC)'` determinan las variables que se mapean a los ejes horizontal y vertical, respectivamente. El parámetro `color='Entity'` asigna un color único a cada país (y al promedio calculado), facilitando su distinción en el gráfico.\n",
        "\n",
        "2. **Título y Etiquetas**: Añadimos un título al gráfico y personalizamos las etiquetas de los ejes y la leyenda para mejorar la comprensión. El título `Índice de Gini a Través del Tiempo en Países Latinoamericanos` y las etiquetas personalizadas para el índice de Gini, el año y el país hacen que el gráfico sea informativo y fácil de entender.\n",
        "\n",
        "3. **Mejoras en la Legibilidad**: Para asegurar que el gráfico sea claro y fácil de leer, aplicamos modificaciones al layout con `fig.update_layout()`, estableciendo títulos específicos para los ejes X e Y y para la leyenda. Además, ajustamos el ángulo de las marcas del eje X con `fig.update_xaxes(tickangle=-45)`, mejorando la visualización de los años y evitando la superposición de texto.\n",
        "\n",
        "4. **Visualización Interactiva**: Finalmente, mostramos el gráfico interactivo con `fig.show()`. Esta visualización interactiva permite a los usuarios explorar los datos de manera dinámica, haciendo zoom, desplazándose y pasando el cursor sobre los puntos de datos para ver detalles específicos, como el índice de Gini de un país en un año particular.\n",
        "\n",
        "Esta visualización no solo destaca las tendencias generales en la desigualdad de ingresos a lo largo del tiempo, sino que también permite comparaciones detalladas entre países, ofreciendo insights valiosos sobre la eficacia de las políticas económicas y sociales en la región.\n"
      ],
      "metadata": {
        "id": "A7qxpLrQUchs"
      }
    },
    {
      "cell_type": "code",
      "source": [
        "# Crear el gráfico lineal con Plotly Express\n",
        "fig = px.line(df_final, x='Year', y='Gini index (SEDLAC)', color='Entity',\n",
        "              title='Índice de Gini a Través del Tiempo en Países Latinoamericanos',\n",
        "              labels={'Gini index (SEDLAC)': 'Índice de Gini', 'Year': 'Año', 'Entity': 'País'})\n",
        "\n",
        "# Mejorar la legibilidad del gráfico\n",
        "fig.update_layout(xaxis_title='Año', yaxis_title='Índice de Gini', legend_title='País')\n",
        "fig.update_xaxes(tickangle=-45)\n",
        "\n",
        "# Mostrar el gráfico\n",
        "fig.show()"
      ],
      "metadata": {
        "id": "rs-QCYQmXrqG"
      },
      "execution_count": null,
      "outputs": []
    },
    {
      "cell_type": "markdown",
      "source": [
        "## Visualización del Índice de Gini Promedio\n",
        "\n",
        "Para obtener una vista consolidada de cómo la desigualdad de ingresos ha cambiado en América Latina en su conjunto, realizamos un filtrado del DataFrame para concentrarnos en los datos promedio anuales. Luego, empleamos esta información para crear una visualización enfocada en el índice de Gini promedio. Los pasos son:\n",
        "\n",
        "1. **Filtrado de Datos**: Seleccionamos solo las filas del DataFrame `df_final` donde `Entity` es igual a 'Promedio'. Este subconjunto de datos, almacenado en `df_promedio`, contiene el índice de Gini promedio calculado para cada año, lo que nos permite analizar la tendencia general de la desigualdad en la región.\n",
        "\n",
        "2. **Creación del Gráfico Lineal**: Con `px.line()`, creamos un gráfico lineal basado en `df_promedio`, mapeando el año al eje X y el índice de Gini promedio al eje Y. El título `Índice de Gini Promedio en América Latina a Través del Tiempo` y las etiquetas personalizadas para los ejes proporcionan un contexto claro sobre el contenido del gráfico.\n",
        "\n",
        "3. **Mejoras en la Legibilidad**: Ajustamos la configuración del gráfico para mejorar su legibilidad y comprensión. Establecemos títulos específicos para los ejes X e Y y ajustamos el ángulo de las marcas del eje X a -45 grados, facilitando la lectura de las fechas.\n",
        "\n",
        "4. **Visualización Interactiva**: Mostramos el gráfico interactivo con `fig.show()`, permitiendo a los usuarios explorar la tendencia del índice de Gini promedio en América Latina a lo largo del tiempo. La interactividad enriquece la experiencia de análisis, ofreciendo la capacidad de examinar valores específicos y observar de cerca cómo la desigualdad ha evolucionado.\n",
        "\n",
        "Esta visualización pone de relieve la tendencia general de la desigualdad en América Latina, destacando si las políticas implementadas a lo largo de los años han sido efectivas para reducir o si han permitido el aumento de la desigualdad de ingresos en la región.\n"
      ],
      "metadata": {
        "id": "tgzZX7RTVpna"
      }
    },
    {
      "cell_type": "code",
      "source": [
        "# Filtrar el DataFrame para incluir solo las filas de \"Promedio\"\n",
        "df_promedio = df_final[df_final['Entity'] == 'Promedio']\n",
        "\n",
        "# Crear el gráfico lineal\n",
        "fig = px.line(df_promedio, x='Year', y='Gini index (SEDLAC)',\n",
        "              title='Índice de Gini Promedio en América Latina a Través del Tiempo',\n",
        "              labels={'Gini index (SEDLAC)': 'Índice de Gini Promedio', 'Year': 'Año'})\n",
        "\n",
        "# Mejorar la legibilidad del gráfico\n",
        "fig.update_layout(xaxis_title='Año', yaxis_title='Índice de Gini Promedio')\n",
        "fig.update_xaxes(tickangle=-45)\n",
        "\n",
        "# Mostrar el gráfico\n",
        "fig.show()\n"
      ],
      "metadata": {
        "id": "m_BKyVMkuSSS"
      },
      "execution_count": null,
      "outputs": []
    },
    {
      "cell_type": "markdown",
      "source": [
        "### Visualización del Índice de Gini por País con Facetas\n",
        "\n",
        "Una forma efectiva de comparar las tendencias del índice de Gini entre los países de América Latina es mediante el uso de gráficos con facetas. Este enfoque nos permite visualizar cada país individualmente, mientras mantenemos una estructura coherente para una fácil comparación. Los pasos son:\n",
        "\n",
        "1. **Creación del Gráfico con Facetas**: Utilizamos `px.line()` para crear un gráfico lineal basado en el DataFrame `df`, que contiene el índice de Gini de todos los países. El argumento `facet_col='Entity'` organiza los gráficos por país, y `facet_col_wrap=3` determina cuántas facetas se muestran por fila. Ajustamos el título, las etiquetas y la altura para adaptarse a la presentación deseada.\n",
        "\n",
        "2. **Personalización de la Visualización**: Configuramos el título de los ejes X e Y para que sean específicos a lo que se está representando, y ajustamos el ángulo de las marcas del eje X a -45 grados para mejorar la legibilidad de los años. Estos ajustes aseguran que cada faceta sea clara y comprensible.\n",
        "\n",
        "3. **Ajustes de Legibilidad Adicionales**: Dado que la figura resultante incluye múltiples gráficos, es importante considerar la legibilidad general. Las leyendas y etiquetas deben ser consistentes y no abrumar visualmente. Se pueden hacer ajustes adicionales para optimizar la presentación, como modificar la orientación de las leyendas o incluso quitarlas si se considera necesario.\n",
        "\n",
        "4. **Visualización Interactiva**: Al mostrar el gráfico con `fig.show()`, ofrecemos una visión interactiva y detallada de la evolución del índice de Gini en cada país. Los usuarios pueden inspeccionar cada faceta para obtener insights específicos, comparar diferentes países y observar patrones o excepciones dentro de la región.\n",
        "\n",
        "Este enfoque con facetas permite una comparación detallada y contextual de las tendencias de desigualdad a lo largo del tiempo en los países de América Latina, destacando diferencias clave y permitiendo análisis profundos sobre las condiciones económicas y las políticas implementadas en cada país.\n"
      ],
      "metadata": {
        "id": "fWF7T3wHWcxP"
      }
    },
    {
      "cell_type": "code",
      "source": [
        "# Crear el gráfico con facetas para cada país\n",
        "fig = px.line(df, x='Year', y='Gini index (SEDLAC)', color='Entity',\n",
        "              facet_col='Entity', facet_col_wrap=3, # Ajusta el número según la cantidad de países o el espacio deseado\n",
        "              title='Índice de Gini por País en América Latina',\n",
        "              labels={'Gini index (SEDLAC)': 'Índice de Gini', 'Year': 'Año'},\n",
        "              height=800) # Ajusta la altura según sea necesario\n",
        "\n",
        "fig.update_layout(xaxis_title='Año', yaxis_title='Índice de Gini')\n",
        "fig.update_xaxes(tickangle=0)\n",
        "\n",
        "# Para mejorar la legibilidad, puedes ajustar la orientación de las leyendas o quitarlas si es necesario\n",
        "fig.show()"
      ],
      "metadata": {
        "id": "vg8GUD7fYP0X"
      },
      "execution_count": null,
      "outputs": []
    },
    {
      "cell_type": "markdown",
      "source": [
        "## Comparación del Índice de Gini por País con el Promedio Regional\n",
        "\n",
        "Para proporcionar una perspectiva más rica sobre la desigualdad de ingresos en América Latina, extendemos nuestra visualización para incluir tanto el índice de Gini por país como su comparación con el promedio regional. Este enfoque permite identificar qué países están por encima o por debajo del promedio de desigualdad en la región. Los pasos para esta visualización avanzada son:\n",
        "\n",
        "1. **Creación del Gráfico con Facetas**: Iniciamos creando un gráfico con facetas para cada país utilizando `px.line()`, basándonos en el DataFrame `df_final`. Este gráfico incluye una faceta por país, permitiendo una comparación visual directa entre cada país y el promedio regional. Configuramos el título, las etiquetas y la altura para adaptarse a nuestra necesidad de una comparación comprensiva.\n",
        "\n",
        "2. **Filtrado y Agregado del Promedio**: Seleccionamos las filas correspondientes al promedio regional de `df_final` para usarlas como referencia en todas las facetas. Este paso es crucial para trazar una línea de referencia que represente el promedio de desigualdad en la región.\n",
        "\n",
        "3. **Incorporación de la Línea de Promedio**: Utilizando un bucle `for` y `go.Scatter`, agregamos una línea que representa el índice de Gini promedio a cada faceta del gráfico. Esta línea de promedio se dibuja con un color y grosor distintos para distinguirla claramente de las líneas que representan a cada país.\n",
        "\n",
        "4. **Ajustes de la Leyenda y Legibilidad**: Para evitar la repetición en la leyenda y mantener la claridad, ajustamos la visualización de la leyenda para que la línea de promedio aparezca una sola vez. Además, configuramos la leyenda de cada país para que no se muestre, simplificando la vista general del gráfico.\n",
        "\n",
        "5. **Personalización Final y Visualización Interactiva**: Actualizamos la leyenda y los títulos de las facetas para una mejor comprensión y legibilidad. La visualización interactiva resultante, mostrada con `fig.show()`, permite a los usuarios explorar en detalle cómo cada país se compara con el promedio regional de desigualdad a lo largo del tiempo.\n",
        "\n",
        "Esta técnica avanzada resalta no solo las diferencias entre los países sino también cómo se sitúan en relación con el promedio regional, ofreciendo insights valiosos sobre las políticas y condiciones económicas específicas de cada país en el contexto latinoamericano.\n"
      ],
      "metadata": {
        "id": "GhI6wLV4XS7y"
      }
    },
    {
      "cell_type": "code",
      "source": [
        "# Crear el gráfico con facetas para cada país\n",
        "fig = px.line(df_final, x='Year', y='Gini index (SEDLAC)', color='Entity',\n",
        "              facet_col='Entity', facet_col_wrap=3,\n",
        "              title='Índice de Gini por País en América Latina Comparado con el Promedio',\n",
        "              labels={'Gini index (SEDLAC)': 'Índice de Gini', 'Year': 'Año'},\n",
        "              height=800)\n",
        "\n",
        "# Filtrar para el promedio\n",
        "df_promedio = df_final[df_final['Entity'] == 'Promedio']\n",
        "\n",
        "# Agregar la línea de promedio con un grosor más fino\n",
        "for entity in df_final['Entity'].unique():\n",
        "    if entity != 'Promedio':\n",
        "        fig.add_trace(\n",
        "            go.Scatter(x=df_promedio['Year'], y=df_promedio['Gini index (SEDLAC)'],\n",
        "                       mode='lines', name='Promedio', line=dict(color='gray', width=0.2)),\n",
        "            row='all', col='all'\n",
        "        )\n",
        "\n",
        "# Mostrar la leyenda una sola vez para 'Promedio'\n",
        "fig.for_each_trace(\n",
        "    lambda trace: trace.update(showlegend=False) if trace.name == 'Promedio' and trace.line.color != 'black' else (),\n",
        ")\n",
        "\n",
        "# Establecer la leyenda de 'Entidad' en False para todas las trazas\n",
        "for trace in fig.data:\n",
        "    if trace.name != 'Promedio':\n",
        "        trace.showlegend = False\n",
        "\n",
        "# Actualizar la leyenda y los títulos de las facetas\n",
        "fig.update_layout(legend_title='Entidad')\n",
        "fig.for_each_annotation(lambda a: a.update(text=a.text.split(\"=\")[-1]))\n",
        "fig.update_xaxes(tickangle=0)\n",
        "\n",
        "# Mostrar el gráfico\n",
        "fig.show()"
      ],
      "metadata": {
        "id": "l2X6Tg1-zNmx"
      },
      "execution_count": null,
      "outputs": []
    },
    {
      "cell_type": "code",
      "source": [
        "# Filtrar para excluir el promedio del gráfico con facetas\n",
        "df_sin_promedio = df_final[df_final['Entity'] != 'Promedio']\n",
        "\n",
        "# Crear el gráfico con facetas para cada país, excluyendo el promedio\n",
        "fig = px.line(df_sin_promedio, x='Year', y='Gini index (SEDLAC)', color='Entity',\n",
        "              facet_col='Entity', facet_col_wrap=3,\n",
        "              title='Índice de Gini por País en América Latina Comparado con el Promedio',\n",
        "              labels={'Gini index (SEDLAC)': 'Índice de Gini', 'Year': 'Año'},\n",
        "              height=800)\n",
        "\n",
        "# Filtrar para el promedio\n",
        "df_promedio = df_final[df_final['Entity'] == 'Promedio']\n",
        "\n",
        "# Agregar la línea de promedio con un grosor más fino a cada gráfico de país\n",
        "for entity in df_final['Entity'].unique():\n",
        "    if entity != 'Promedio':\n",
        "        fig.add_trace(\n",
        "            go.Scatter(x=df_promedio['Year'], y=df_promedio['Gini index (SEDLAC)'],\n",
        "                       mode='lines', name='Promedio', line=dict(color='gray', width=1)),\n",
        "            row='all', col='all'\n",
        "        )\n",
        "\n",
        "# Ocultar la leyenda para todas las trazas\n",
        "for trace in fig.data:\n",
        "    trace.showlegend = False\n",
        "\n",
        "# Mostrar la leyenda solo para la primera traza del promedio\n",
        "fig.data[-1].showlegend = True\n",
        "\n",
        "# Actualizar la leyenda y los títulos de las facetas\n",
        "fig.update_layout(legend_title='Leyenda')\n",
        "fig.for_each_annotation(lambda a: a.update(text=a.text.split(\"=\")[-1]))\n",
        "\n",
        "# Ajustar el ángulo de las etiquetas del eje x para que aparezcan horizontalmente\n",
        "fig.update_xaxes(tickangle=0)\n",
        "\n",
        "# Mostrar el gráfico\n",
        "fig.show()\n"
      ],
      "metadata": {
        "id": "XVUU0m4HzVu6"
      },
      "execution_count": null,
      "outputs": []
    },
    {
      "cell_type": "code",
      "source": [
        "# Filtrar para excluir el promedio del gráfico con facetas\n",
        "df_sin_promedio = df_final[df_final['Entity'] != 'Promedio']\n",
        "\n",
        "# Crear el gráfico con facetas para cada país, excluyendo el promedio\n",
        "fig = px.line(df_sin_promedio, x='Year', y='Gini index (SEDLAC)',\n",
        "              facet_col='Entity', facet_col_wrap=3,\n",
        "              title='Índice de Gini por País en América Latina Comparado con el Promedio',\n",
        "              labels={'Gini index (SEDLAC)': 'Índice de Gini', 'Year': 'Año'},\n",
        "              height=800)\n",
        "\n",
        "# Establecer todas las líneas de países en azul aguamarina\n",
        "for trace in fig.data:\n",
        "    trace.line.color = 'aqua'\n",
        "\n",
        "# Filtrar para el promedio\n",
        "df_promedio = df_final[df_final['Entity'] == 'Promedio']\n",
        "\n",
        "# Agregar la línea de promedio en color gris a cada gráfico de país\n",
        "for entity in df_final['Entity'].unique():\n",
        "    if entity != 'Promedio':\n",
        "        fig.add_trace(\n",
        "            go.Scatter(x=df_promedio['Year'], y=df_promedio['Gini index (SEDLAC)'],\n",
        "                       mode='lines', name='Promedio', line=dict(color='gray', width=2)),\n",
        "            row='all', col='all'\n",
        "        )\n",
        "\n",
        "# Ocultar la leyenda para todas las trazas\n",
        "for trace in fig.data:\n",
        "    trace.showlegend = False\n",
        "\n",
        "# Mostrar la leyenda solo para la primera traza del promedio\n",
        "fig.data[-1].showlegend = True\n",
        "\n",
        "# Actualizar la leyenda y los títulos de las facetas\n",
        "fig.update_layout(legend_title='Leyenda')\n",
        "fig.for_each_annotation(lambda a: a.update(text=a.text.split(\"=\")[-1]))\n",
        "\n",
        "# Ajustar el ángulo de las etiquetas del eje x para que aparezcan horizontalmente\n",
        "fig.update_xaxes(tickangle=0)\n",
        "\n",
        "# Mostrar el gráfico\n",
        "fig.show()\n"
      ],
      "metadata": {
        "id": "Ghi7Pw880kjt"
      },
      "execution_count": null,
      "outputs": []
    }
  ]
}